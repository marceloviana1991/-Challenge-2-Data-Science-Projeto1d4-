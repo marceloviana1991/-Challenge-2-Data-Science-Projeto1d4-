{
  "nbformat": 4,
  "nbformat_minor": 0,
  "metadata": {
    "colab": {
      "provenance": []
    },
    "kernelspec": {
      "name": "python3",
      "display_name": "Python 3"
    },
    "language_info": {
      "name": "python"
    }
  },
  "cells": [
    {
      "cell_type": "code",
      "execution_count": 1,
      "metadata": {
        "colab": {
          "base_uri": "https://localhost:8080/"
        },
        "id": "QLEzvzEhLGJO",
        "outputId": "c3ebd236-b932-4a33-bc19-934bf0267141"
      },
      "outputs": [
        {
          "output_type": "stream",
          "name": "stdout",
          "text": [
            "Looking in indexes: https://pypi.org/simple, https://us-python.pkg.dev/colab-wheels/public/simple/\n",
            "Collecting pyspark==3.3.1\n",
            "  Downloading pyspark-3.3.1.tar.gz (281.4 MB)\n",
            "\u001b[K     |████████████████████████████████| 281.4 MB 45 kB/s \n",
            "\u001b[?25hCollecting py4j==0.10.9.5\n",
            "  Downloading py4j-0.10.9.5-py2.py3-none-any.whl (199 kB)\n",
            "\u001b[K     |████████████████████████████████| 199 kB 54.4 MB/s \n",
            "\u001b[?25hBuilding wheels for collected packages: pyspark\n",
            "  Building wheel for pyspark (setup.py) ... \u001b[?25l\u001b[?25hdone\n",
            "  Created wheel for pyspark: filename=pyspark-3.3.1-py2.py3-none-any.whl size=281845512 sha256=233364087e20739eeb3c67a93b729e9d28ab21a6171717214761c7977bce5539\n",
            "  Stored in directory: /root/.cache/pip/wheels/43/dc/11/ec201cd671da62fa9c5cc77078235e40722170ceba231d7598\n",
            "Successfully built pyspark\n",
            "Installing collected packages: py4j, pyspark\n",
            "Successfully installed py4j-0.10.9.5 pyspark-3.3.1\n"
          ]
        }
      ],
      "source": [
        "!pip install pyspark==3.3.1"
      ]
    },
    {
      "cell_type": "code",
      "source": [
        "from pyspark.sql import SparkSession"
      ],
      "metadata": {
        "id": "GunO4KFvLKn3"
      },
      "execution_count": 2,
      "outputs": []
    },
    {
      "cell_type": "code",
      "source": [
        "spark = SparkSession.builder.master('local[*]').appName(\"Transformacao com Spark\").getOrCreate()\n",
        "\n",
        "spark"
      ],
      "metadata": {
        "colab": {
          "base_uri": "https://localhost:8080/",
          "height": 219
        },
        "id": "KSsw9EH2LOk_",
        "outputId": "1f530f47-28bc-463c-e922-8d495b46a766"
      },
      "execution_count": 3,
      "outputs": [
        {
          "output_type": "execute_result",
          "data": {
            "text/plain": [
              "<pyspark.sql.session.SparkSession at 0x7f46763df160>"
            ],
            "text/html": [
              "\n",
              "            <div>\n",
              "                <p><b>SparkSession - in-memory</b></p>\n",
              "                \n",
              "        <div>\n",
              "            <p><b>SparkContext</b></p>\n",
              "\n",
              "            <p><a href=\"http://1c8ab639eb27:4040\">Spark UI</a></p>\n",
              "\n",
              "            <dl>\n",
              "              <dt>Version</dt>\n",
              "                <dd><code>v3.3.1</code></dd>\n",
              "              <dt>Master</dt>\n",
              "                <dd><code>local[*]</code></dd>\n",
              "              <dt>AppName</dt>\n",
              "                <dd><code>Transformacao com Spark</code></dd>\n",
              "            </dl>\n",
              "        </div>\n",
              "        \n",
              "            </div>\n",
              "        "
            ]
          },
          "metadata": {},
          "execution_count": 3
        }
      ]
    },
    {
      "cell_type": "code",
      "source": [
        "!wget \"https://caelum-online-public.s3.amazonaws.com/challenge-spark/semana-1.zip\" && unzip semana-1.zip -d dados/"
      ],
      "metadata": {
        "id": "EtRVglMKLeeK",
        "colab": {
          "base_uri": "https://localhost:8080/"
        },
        "outputId": "87e3d8ff-c820-4055-9dda-ae855e889e83"
      },
      "execution_count": 4,
      "outputs": [
        {
          "output_type": "stream",
          "name": "stdout",
          "text": [
            "--2022-12-03 03:02:23--  https://caelum-online-public.s3.amazonaws.com/challenge-spark/semana-1.zip\n",
            "Resolving caelum-online-public.s3.amazonaws.com (caelum-online-public.s3.amazonaws.com)... 54.231.168.89, 52.216.131.147, 52.216.89.220, ...\n",
            "Connecting to caelum-online-public.s3.amazonaws.com (caelum-online-public.s3.amazonaws.com)|54.231.168.89|:443... connected.\n",
            "HTTP request sent, awaiting response... 200 OK\n",
            "Length: 18975214 (18M) [application/zip]\n",
            "Saving to: ‘semana-1.zip’\n",
            "\n",
            "semana-1.zip        100%[===================>]  18.10M  21.1MB/s    in 0.9s    \n",
            "\n",
            "2022-12-03 03:02:24 (21.1 MB/s) - ‘semana-1.zip’ saved [18975214/18975214]\n",
            "\n",
            "Archive:  semana-1.zip\n",
            "  inflating: dados/dataset_bruto.json  \n"
          ]
        }
      ]
    },
    {
      "cell_type": "code",
      "source": [
        "dados = spark.read.json('/content/dados/dataset_bruto.json')"
      ],
      "metadata": {
        "id": "2X_Mwcr8LobK"
      },
      "execution_count": 5,
      "outputs": []
    },
    {
      "cell_type": "code",
      "source": [
        "dados.show()"
      ],
      "metadata": {
        "id": "-gBI1joEL2fA",
        "colab": {
          "base_uri": "https://localhost:8080/"
        },
        "outputId": "ce956994-adfb-45ae-dc4c-9f51234900c0"
      },
      "execution_count": 6,
      "outputs": [
        {
          "output_type": "stream",
          "name": "stdout",
          "text": [
            "+--------------------+--------------------+--------------------+\n",
            "|             anuncio|             imagens|             usuario|\n",
            "+--------------------+--------------------+--------------------+\n",
            "|{0, [], [16], [0]...|[{39d6282a-71f3-4...|{9d44563d-3405-4e...|\n",
            "|{0, [], [14], [0]...|[{23d2b3ab-45b0-4...|{36245be7-70fe-40...|\n",
            "|{0, [1026], [1026...|[{1da65baa-368b-4...|{9dc415d8-1397-4d...|\n",
            "|{0, [120], [120],...|[{79b542c6-49b4-4...|{9911a2df-f299-4a...|\n",
            "|{0, [3], [3], [0]...|[{e2bc497b-6510-4...|{240a7aab-12e5-40...|\n",
            "|{0, [20], [15], [...|[{2de09d46-dc0d-4...|{3c7057f5-0923-42...|\n",
            "|{3, [43], [43], [...|[{147a80d9-cd40-4...|{5a9736b5-aaa0-4a...|\n",
            "|{2, [42], [42], [...|[{35740004-063d-4...|{ec48d96a-137c-49...|\n",
            "|{0, [], [12], [0]...|[{6d3d2aec-c96f-4...|{dad7db63-e19c-44...|\n",
            "|{1, [41], [41], [...|[{3d404069-418e-4...|{a845f35f-3ab3-46...|\n",
            "|{3, [43], [43], [...|[{5b8a8de7-2088-4...|{8c8de313-45d5-4c...|\n",
            "|{0, [10], [4], [0...|[{5385da42-8276-4...|{0b1d4ee0-2bc3-4c...|\n",
            "|{0, [12], [12], [...|[{7e4c2d03-1188-4...|{d744ac23-f16e-44...|\n",
            "|{0, [17], [17], [...|[{db608e30-f3e0-4...|{edc3fcf6-4441-40...|\n",
            "|{1, [32], [32], [...|[{318d4e40-f759-4...|{84dfa72e-10dd-48...|\n",
            "|{0, [], [10], [0]...|[{9e39e46f-59f8-4...|{fc1d2b73-9d29-4c...|\n",
            "|{2, [43], [43], [...|[{3fe1c1cc-7a9c-4...|{7f2de69f-68f8-40...|\n",
            "|{3, [43], [43], [...|[{fd04f07d-cfdf-4...|{12ce772e-4aac-46...|\n",
            "|{3, [43], [43], [...|[{76f97b59-a61b-4...|{cc17fc2c-6be2-4e...|\n",
            "|{3, [43], [43], [...|[{95d9678e-491f-4...|{286649de-3099-4c...|\n",
            "+--------------------+--------------------+--------------------+\n",
            "only showing top 20 rows\n",
            "\n"
          ]
        }
      ]
    },
    {
      "cell_type": "code",
      "source": [
        "dados.count()"
      ],
      "metadata": {
        "colab": {
          "base_uri": "https://localhost:8080/"
        },
        "id": "KCvDshTL7RlH",
        "outputId": "dc11ef4a-aaa1-42d1-b429-01abf30e3336"
      },
      "execution_count": 7,
      "outputs": [
        {
          "output_type": "execute_result",
          "data": {
            "text/plain": [
              "89083"
            ]
          },
          "metadata": {},
          "execution_count": 7
        }
      ]
    },
    {
      "cell_type": "code",
      "source": [
        "dados.printSchema()"
      ],
      "metadata": {
        "id": "v7I5mg3WMIka",
        "colab": {
          "base_uri": "https://localhost:8080/"
        },
        "outputId": "556ac34d-7adf-4d16-9a84-9b2313342f5e"
      },
      "execution_count": 8,
      "outputs": [
        {
          "output_type": "stream",
          "name": "stdout",
          "text": [
            "root\n",
            " |-- anuncio: struct (nullable = true)\n",
            " |    |-- andar: long (nullable = true)\n",
            " |    |-- area_total: array (nullable = true)\n",
            " |    |    |-- element: string (containsNull = true)\n",
            " |    |-- area_util: array (nullable = true)\n",
            " |    |    |-- element: string (containsNull = true)\n",
            " |    |-- banheiros: array (nullable = true)\n",
            " |    |    |-- element: long (containsNull = true)\n",
            " |    |-- caracteristicas: array (nullable = true)\n",
            " |    |    |-- element: string (containsNull = true)\n",
            " |    |-- endereco: struct (nullable = true)\n",
            " |    |    |-- bairro: string (nullable = true)\n",
            " |    |    |-- cep: string (nullable = true)\n",
            " |    |    |-- cidade: string (nullable = true)\n",
            " |    |    |-- estado: string (nullable = true)\n",
            " |    |    |-- latitude: double (nullable = true)\n",
            " |    |    |-- longitude: double (nullable = true)\n",
            " |    |    |-- pais: string (nullable = true)\n",
            " |    |    |-- rua: string (nullable = true)\n",
            " |    |    |-- zona: string (nullable = true)\n",
            " |    |-- id: string (nullable = true)\n",
            " |    |-- quartos: array (nullable = true)\n",
            " |    |    |-- element: long (containsNull = true)\n",
            " |    |-- suites: array (nullable = true)\n",
            " |    |    |-- element: long (containsNull = true)\n",
            " |    |-- tipo_anuncio: string (nullable = true)\n",
            " |    |-- tipo_unidade: string (nullable = true)\n",
            " |    |-- tipo_uso: string (nullable = true)\n",
            " |    |-- vaga: array (nullable = true)\n",
            " |    |    |-- element: long (containsNull = true)\n",
            " |    |-- valores: array (nullable = true)\n",
            " |    |    |-- element: struct (containsNull = true)\n",
            " |    |    |    |-- condominio: string (nullable = true)\n",
            " |    |    |    |-- iptu: string (nullable = true)\n",
            " |    |    |    |-- tipo: string (nullable = true)\n",
            " |    |    |    |-- valor: string (nullable = true)\n",
            " |-- imagens: array (nullable = true)\n",
            " |    |-- element: struct (containsNull = true)\n",
            " |    |    |-- id: string (nullable = true)\n",
            " |    |    |-- url: string (nullable = true)\n",
            " |-- usuario: struct (nullable = true)\n",
            " |    |-- id: string (nullable = true)\n",
            " |    |-- nome: string (nullable = true)\n",
            "\n"
          ]
        }
      ]
    },
    {
      "cell_type": "code",
      "source": [
        "#Filtrando o Data Frame para eliminar as colunas 'imagens' e 'usuario'\n",
        "\n",
        "anuncio = dados.select('anuncio.*')\n",
        "\n",
        "anuncio.show()"
      ],
      "metadata": {
        "id": "WClrv06gMbkd",
        "colab": {
          "base_uri": "https://localhost:8080/"
        },
        "outputId": "98374fbe-a521-4afe-d05f-ee77f663fbfc"
      },
      "execution_count": 9,
      "outputs": [
        {
          "output_type": "stream",
          "name": "stdout",
          "text": [
            "+-----+----------+---------+---------+--------------------+--------------------+--------------------+-------+------+------------+------------+-----------+----+--------------------+\n",
            "|andar|area_total|area_util|banheiros|     caracteristicas|            endereco|                  id|quartos|suites|tipo_anuncio|tipo_unidade|   tipo_uso|vaga|             valores|\n",
            "+-----+----------+---------+---------+--------------------+--------------------+--------------------+-------+------+------------+------------+-----------+----+--------------------+\n",
            "|    0|        []|     [16]|      [0]|                  []|{Centro, 20061003...|47d553e0-79f2-4a4...|    [0]|   [0]|       Usado|      Outros|  Comercial| [1]|[{260, 107, Venda...|\n",
            "|    0|        []|     [14]|      [0]|                  []|{Centro, 20051040...|b6ffbae1-17f6-487...|    [0]|    []|       Usado|      Outros|  Comercial| [0]|[{260, 107, Venda...|\n",
            "|    0|    [1026]|   [1026]|      [0]|                  []|{Maria da Graça, ...|1fb030a5-9e3e-4a1...|    [0]|    []|       Usado|      Outros|  Comercial| [0]|[{null, 1613, Ven...|\n",
            "|    0|     [120]|    [120]|      [0]|[Portão eletrônic...|{Campo Grande, 23...|ac6cb348-69d6-45a...|    [0]|    []|       Usado|      Outros|Residencial|  []|[{80, null, Venda...|\n",
            "|    0|       [3]|      [3]|      [0]|                  []|{São Cristóvão, 2...|e032b908-ef42-4d4...|    [0]|    []|       Usado|      Outros|Residencial|  []|[{0, 0, Venda, 50...|\n",
            "|    0|      [20]|     [15]|      [1]|                  []|{Centro, 20231047...|df9cf0b8-b972-433...|    [0]|    []|       Usado|      Outros|  Comercial| [1]|[{223, 87, Venda,...|\n",
            "|    3|      [43]|     [43]|      [1]|[Academia, Churra...|{Paciência, 23585...|d2e3a3aa-09b5-45a...|    [2]|    []|       Usado| Apartamento|Residencial| [1]|[{245, null, Vend...|\n",
            "|    2|      [42]|     [42]|      [1]|[Churrasqueira, P...|{Paciência, 23585...|085bab2c-87ad-452...|    [2]|    []|       Usado| Apartamento|Residencial| [1]|[{0, 0, Venda, 15...|\n",
            "|    0|        []|     [12]|      [0]|[Portaria 24h, El...|{Centro, 20231047...|096ad966-dc36-47b...|    [0]|    []|       Usado|      Outros|  Comercial| [1]|[{250, null, Vend...|\n",
            "|    1|      [41]|     [41]|      [1]|[Portaria 24h, Co...|{Guaratiba, 23036...|18d22cbe-1b86-476...|    [2]|    []|       Usado| Apartamento|Residencial| [1]|[{0, 0, Venda, 20...|\n",
            "|    3|      [43]|     [43]|      [1]|[Churrasqueira, P...|{Cosmos, 23066271...|bed8a354-9317-442...|    [2]|    []|       Usado| Apartamento|Residencial| [0]|[{285, null, Vend...|\n",
            "|    0|      [10]|      [4]|      [0]|[Elevador, Portar...|{Centro, 20080021...|b7d0fbd3-0b28-420...|    [0]|    []|       Usado|      Outros|  Comercial| [0]|[{200, 86, Venda,...|\n",
            "|    0|      [12]|     [12]|      [1]|      [Portaria 24h]|{Copacabana, 2202...|c6571c11-166e-4a4...|    [0]|    []|       Usado|      Outros|  Comercial|  []|[{470, null, Vend...|\n",
            "|    0|      [17]|     [17]|      [0]|          [Elevador]|{Centro, 20070021...|46d5b560-205f-45f...|    [0]|    []|       Usado|      Outros|  Comercial| [1]|[{294, 98, Venda,...|\n",
            "|    1|      [32]|     [32]|       []|[Elevador, Condom...|{Centro, 20090020...|db197997-00e6-4d6...|     []|    []|       Usado|      Outros|  Comercial| [1]|[{684, null, Vend...|\n",
            "|    0|        []|     [10]|      [0]|[Elevador, Condom...|{Saúde, 20080040,...|835d4338-4aa9-4e4...|    [0]|    []|       Usado|      Outros|  Comercial|  []|[{0, 120, Venda, ...|\n",
            "|    2|      [43]|     [43]|      [1]|[Academia, Churra...|{Guaratiba, 23036...|12a13315-d67f-48f...|    [2]|    []|       Usado| Apartamento|Residencial| [1]|[{245, null, Vend...|\n",
            "|    3|      [43]|     [43]|      [1]|[Churrasqueira, P...|{Cosmos, 23066271...|a2e6d7a5-0ff0-484...|    [2]|   [0]|       Usado| Apartamento|Residencial| [0]|[{285, null, Vend...|\n",
            "|    3|      [43]|     [43]|      [1]|[Churrasqueira, P...|{Paciência, 23585...|a6e3173b-c950-4db...|    [2]|    []|       Usado| Apartamento|Residencial| [1]|[{250, null, Vend...|\n",
            "|    3|      [43]|     [43]|      [1]|[Churrasqueira, P...|{Guaratiba, 23036...|2e6e5dfb-206c-496...|    [2]|   [0]|       Usado| Apartamento|Residencial| [1]|[{245, null, Vend...|\n",
            "+-----+----------+---------+---------+--------------------+--------------------+--------------------+-------+------+------------+------------+-----------+----+--------------------+\n",
            "only showing top 20 rows\n",
            "\n"
          ]
        }
      ]
    },
    {
      "cell_type": "code",
      "source": [
        "#Analisando os dados {'tipo_uso':['Comercial', 'Residencial'], 'tipo_anuncio':['Usado', 'Lançamento'], 'tipo_unidade':['Outros', 'Apartamento', 'Casa']}\n",
        "\n",
        "anuncio.groupBy('tipo_uso').count().show()\n",
        "anuncio.groupBy('tipo_anuncio').count().show()\n",
        "anuncio.groupBy('tipo_unidade').count().show()"
      ],
      "metadata": {
        "id": "ZpGue8u5NYA1",
        "colab": {
          "base_uri": "https://localhost:8080/"
        },
        "outputId": "5567fabb-ee31-47ac-b8ce-f0041225b223"
      },
      "execution_count": 10,
      "outputs": [
        {
          "output_type": "stream",
          "name": "stdout",
          "text": [
            "+-----------+-----+\n",
            "|   tipo_uso|count|\n",
            "+-----------+-----+\n",
            "|  Comercial| 4542|\n",
            "|Residencial|84541|\n",
            "+-----------+-----+\n",
            "\n",
            "+------------+-----+\n",
            "|tipo_anuncio|count|\n",
            "+------------+-----+\n",
            "|       Usado|88827|\n",
            "|  Lançamento|  256|\n",
            "+------------+-----+\n",
            "\n",
            "+------------+-----+\n",
            "|tipo_unidade|count|\n",
            "+------------+-----+\n",
            "|      Outros|11963|\n",
            "| Apartamento|66801|\n",
            "|        Casa|10319|\n",
            "+------------+-----+\n",
            "\n"
          ]
        }
      ]
    },
    {
      "cell_type": "code",
      "source": [
        "#Filtrando o Data Frame para elimenar os dados {'tipo_uso':['Residencial'], 'tipo_anuncio':['Lançamento'], 'tipo_unidade':['Outros', 'Casa']}\n",
        "\n",
        "anuncio = anuncio.filter(\"tipo_uso == 'Residencial'\")\n",
        "anuncio = anuncio.filter(\"tipo_unidade == 'Apartamento'\")\n",
        "anuncio = anuncio.filter(\"tipo_anuncio == 'Usado'\")\n",
        "\n",
        "anuncio.show()\n",
        "anuncio.count()"
      ],
      "metadata": {
        "id": "K9j-MwNTOdt-",
        "colab": {
          "base_uri": "https://localhost:8080/"
        },
        "outputId": "4a35fca2-a238-465a-ab5b-b1fe9294bc4d"
      },
      "execution_count": 11,
      "outputs": [
        {
          "output_type": "stream",
          "name": "stdout",
          "text": [
            "+-----+----------+---------+---------+--------------------+--------------------+--------------------+-------+------+------------+------------+-----------+----+--------------------+\n",
            "|andar|area_total|area_util|banheiros|     caracteristicas|            endereco|                  id|quartos|suites|tipo_anuncio|tipo_unidade|   tipo_uso|vaga|             valores|\n",
            "+-----+----------+---------+---------+--------------------+--------------------+--------------------+-------+------+------------+------------+-----------+----+--------------------+\n",
            "|    3|      [43]|     [43]|      [1]|[Academia, Churra...|{Paciência, 23585...|d2e3a3aa-09b5-45a...|    [2]|    []|       Usado| Apartamento|Residencial| [1]|[{245, null, Vend...|\n",
            "|    2|      [42]|     [42]|      [1]|[Churrasqueira, P...|{Paciência, 23585...|085bab2c-87ad-452...|    [2]|    []|       Usado| Apartamento|Residencial| [1]|[{0, 0, Venda, 15...|\n",
            "|    1|      [41]|     [41]|      [1]|[Portaria 24h, Co...|{Guaratiba, 23036...|18d22cbe-1b86-476...|    [2]|    []|       Usado| Apartamento|Residencial| [1]|[{0, 0, Venda, 20...|\n",
            "|    3|      [43]|     [43]|      [1]|[Churrasqueira, P...|{Cosmos, 23066271...|bed8a354-9317-442...|    [2]|    []|       Usado| Apartamento|Residencial| [0]|[{285, null, Vend...|\n",
            "|    2|      [43]|     [43]|      [1]|[Academia, Churra...|{Guaratiba, 23036...|12a13315-d67f-48f...|    [2]|    []|       Usado| Apartamento|Residencial| [1]|[{245, null, Vend...|\n",
            "|    3|      [43]|     [43]|      [1]|[Churrasqueira, P...|{Cosmos, 23066271...|a2e6d7a5-0ff0-484...|    [2]|   [0]|       Usado| Apartamento|Residencial| [0]|[{285, null, Vend...|\n",
            "|    3|      [43]|     [43]|      [1]|[Churrasqueira, P...|{Paciência, 23585...|a6e3173b-c950-4db...|    [2]|    []|       Usado| Apartamento|Residencial| [1]|[{250, null, Vend...|\n",
            "|    3|      [43]|     [43]|      [1]|[Churrasqueira, P...|{Guaratiba, 23036...|2e6e5dfb-206c-496...|    [2]|   [0]|       Usado| Apartamento|Residencial| [1]|[{245, null, Vend...|\n",
            "|    3|      [43]|     [43]|      [1]|[Churrasqueira, P...|{Paciência, 23585...|99f8d0f9-95a4-461...|    [2]|   [0]|       Usado| Apartamento|Residencial| [1]|[{245, null, Vend...|\n",
            "|    4|      [43]|     [43]|      [1]|[Churrasqueira, P...|{Guaratiba, 23036...|b3f44c1a-2d50-4d5...|    [2]|    []|       Usado| Apartamento|Residencial| [1]|[{240, null, Vend...|\n",
            "|    0|      [60]|     [60]|      [1]|[Condomínio fechado]|{Pedra de Guarati...|dc99d9e1-4c63-41f...|    [2]|    []|       Usado| Apartamento|Residencial| [1]|[{0, 0, Venda, 15...|\n",
            "|    1|      [43]|     [43]|      [1]|[Churrasqueira, P...|{Cosmos, 23056630...|aa3606d8-8bcd-45e...|    [2]|    []|       Usado| Apartamento|Residencial| [1]|[{240, 0, Venda, ...|\n",
            "|    0|      [43]|     [43]|      [1]|[Churrasqueira, P...|{Campo Grande, 23...|df80b0d5-677c-4be...|    [2]|   [0]|       Usado| Apartamento|Residencial| [0]|[{245, null, Vend...|\n",
            "|    2|      [43]|     [43]|      [1]|[Academia, Churra...|{Santa Cruz, 2352...|3d6c0218-9b7d-474...|    [2]|    []|       Usado| Apartamento|Residencial| [2]|[{290, null, Vend...|\n",
            "|    3|      [43]|     [43]|      [1]|[Salão de festas,...|{Guaratiba, 23020...|304266cc-62d1-4ce...|    [2]|    []|       Usado| Apartamento|Residencial|  []|[{285, null, Vend...|\n",
            "|    4|      [55]|     [55]|      [2]|[Academia, Churra...|{Recreio dos Band...|111472a2-afa1-4a7...|    [2]|   [1]|       Usado| Apartamento|Residencial| [1]|[{0, 0, Venda, 30...|\n",
            "|    0|      [45]|     [45]|      [1]|[Playground, Pisc...|{Cosmos, 23066271...|275c1589-6537-4bf...|    [2]|   [0]|       Usado| Apartamento|Residencial| [1]|[{null, null, Ven...|\n",
            "|    5|      [42]|     [42]|      [1]|[Condomínio fecha...|{Realengo, 217251...|ab8f367f-7509-45c...|    [2]|   [0]|       Usado| Apartamento|Residencial| [0]|[{280, 0, Venda, ...|\n",
            "|    1|      [43]|     [43]|      [1]|[Churrasqueira, P...|{Cosmos, 23058001...|e0a3d370-66dd-4f5...|    [2]|    []|       Usado| Apartamento|Residencial| [1]|[{280, null, Vend...|\n",
            "|    3|        []|     [55]|      [1]|[Academia, Churra...|{Todos os Santos,...|09c8ba2d-dbf1-487...|    [2]|   [1]|       Usado| Apartamento|Residencial| [1]|[{0, 0, Venda, 26...|\n",
            "+-----+----------+---------+---------+--------------------+--------------------+--------------------+-------+------+------------+------------+-----------+----+--------------------+\n",
            "only showing top 20 rows\n",
            "\n"
          ]
        },
        {
          "output_type": "execute_result",
          "data": {
            "text/plain": [
              "66562"
            ]
          },
          "metadata": {},
          "execution_count": 11
        }
      ]
    },
    {
      "cell_type": "code",
      "source": [
        "from pyspark.sql import functions as f"
      ],
      "metadata": {
        "id": "zd0OcBsFPpUn"
      },
      "execution_count": 12,
      "outputs": []
    },
    {
      "cell_type": "code",
      "source": [
        "#Analisando os a quantidade de elementos das listas registradas nas colunas 'quartos', 'suites', 'banheiros', 'vaga', 'area_total', 'area_util'\n",
        "\n",
        "caracteristicas = ['quartos', 'suites', 'banheiros', 'vaga', 'area_total', 'area_util']\n",
        "\n",
        "for i in caracteristicas:\n",
        "  anuncio.select(f.size(f.col(i)).alias(i)).groupBy(i).count().show()"
      ],
      "metadata": {
        "id": "Ni6WmvlRPwcI",
        "colab": {
          "base_uri": "https://localhost:8080/"
        },
        "outputId": "2c7edcd7-8250-45bb-d080-2001ca51ef79"
      },
      "execution_count": 13,
      "outputs": [
        {
          "output_type": "stream",
          "name": "stdout",
          "text": [
            "+-------+-----+\n",
            "|quartos|count|\n",
            "+-------+-----+\n",
            "|      1|66562|\n",
            "+-------+-----+\n",
            "\n",
            "+------+-----+\n",
            "|suites|count|\n",
            "+------+-----+\n",
            "|     1|61008|\n",
            "|     0| 5554|\n",
            "+------+-----+\n",
            "\n",
            "+---------+-----+\n",
            "|banheiros|count|\n",
            "+---------+-----+\n",
            "|        1|66562|\n",
            "+---------+-----+\n",
            "\n",
            "+----+-----+\n",
            "|vaga|count|\n",
            "+----+-----+\n",
            "|   1|63545|\n",
            "|   0| 3017|\n",
            "+----+-----+\n",
            "\n",
            "+----------+-----+\n",
            "|area_total|count|\n",
            "+----------+-----+\n",
            "|         1|57368|\n",
            "|         0| 9194|\n",
            "+----------+-----+\n",
            "\n",
            "+---------+-----+\n",
            "|area_util|count|\n",
            "+---------+-----+\n",
            "|        1|66562|\n",
            "+---------+-----+\n",
            "\n"
          ]
        }
      ]
    },
    {
      "cell_type": "code",
      "source": [
        "#Convertendo os registros das colunas 'quartos', 'suites', 'banheiros', 'vaga', 'area_total', 'area_util' de lista para elemento\n",
        "#OBS: No caso de listas com 1 elemento registra-se o elemento; No caso de listas vazias registra-se null\n",
        "\n",
        "caracteristicas = ['quartos', 'suites', 'banheiros', 'vaga', 'area_total', 'area_util']\n",
        "\n",
        "anuncio = anuncio.select([f.col(c)[0].alias(c) if c in caracteristicas else c for c in anuncio.columns])\n",
        "\n",
        "anuncio.show()"
      ],
      "metadata": {
        "id": "XRkHtSZCSKlH",
        "colab": {
          "base_uri": "https://localhost:8080/"
        },
        "outputId": "b75a59c0-ffb8-4b03-aa09-a55e1cf9921b"
      },
      "execution_count": 14,
      "outputs": [
        {
          "output_type": "stream",
          "name": "stdout",
          "text": [
            "+-----+----------+---------+---------+--------------------+--------------------+--------------------+-------+------+------------+------------+-----------+----+--------------------+\n",
            "|andar|area_total|area_util|banheiros|     caracteristicas|            endereco|                  id|quartos|suites|tipo_anuncio|tipo_unidade|   tipo_uso|vaga|             valores|\n",
            "+-----+----------+---------+---------+--------------------+--------------------+--------------------+-------+------+------------+------------+-----------+----+--------------------+\n",
            "|    3|        43|       43|        1|[Academia, Churra...|{Paciência, 23585...|d2e3a3aa-09b5-45a...|      2|  null|       Usado| Apartamento|Residencial|   1|[{245, null, Vend...|\n",
            "|    2|        42|       42|        1|[Churrasqueira, P...|{Paciência, 23585...|085bab2c-87ad-452...|      2|  null|       Usado| Apartamento|Residencial|   1|[{0, 0, Venda, 15...|\n",
            "|    1|        41|       41|        1|[Portaria 24h, Co...|{Guaratiba, 23036...|18d22cbe-1b86-476...|      2|  null|       Usado| Apartamento|Residencial|   1|[{0, 0, Venda, 20...|\n",
            "|    3|        43|       43|        1|[Churrasqueira, P...|{Cosmos, 23066271...|bed8a354-9317-442...|      2|  null|       Usado| Apartamento|Residencial|   0|[{285, null, Vend...|\n",
            "|    2|        43|       43|        1|[Academia, Churra...|{Guaratiba, 23036...|12a13315-d67f-48f...|      2|  null|       Usado| Apartamento|Residencial|   1|[{245, null, Vend...|\n",
            "|    3|        43|       43|        1|[Churrasqueira, P...|{Cosmos, 23066271...|a2e6d7a5-0ff0-484...|      2|     0|       Usado| Apartamento|Residencial|   0|[{285, null, Vend...|\n",
            "|    3|        43|       43|        1|[Churrasqueira, P...|{Paciência, 23585...|a6e3173b-c950-4db...|      2|  null|       Usado| Apartamento|Residencial|   1|[{250, null, Vend...|\n",
            "|    3|        43|       43|        1|[Churrasqueira, P...|{Guaratiba, 23036...|2e6e5dfb-206c-496...|      2|     0|       Usado| Apartamento|Residencial|   1|[{245, null, Vend...|\n",
            "|    3|        43|       43|        1|[Churrasqueira, P...|{Paciência, 23585...|99f8d0f9-95a4-461...|      2|     0|       Usado| Apartamento|Residencial|   1|[{245, null, Vend...|\n",
            "|    4|        43|       43|        1|[Churrasqueira, P...|{Guaratiba, 23036...|b3f44c1a-2d50-4d5...|      2|  null|       Usado| Apartamento|Residencial|   1|[{240, null, Vend...|\n",
            "|    0|        60|       60|        1|[Condomínio fechado]|{Pedra de Guarati...|dc99d9e1-4c63-41f...|      2|  null|       Usado| Apartamento|Residencial|   1|[{0, 0, Venda, 15...|\n",
            "|    1|        43|       43|        1|[Churrasqueira, P...|{Cosmos, 23056630...|aa3606d8-8bcd-45e...|      2|  null|       Usado| Apartamento|Residencial|   1|[{240, 0, Venda, ...|\n",
            "|    0|        43|       43|        1|[Churrasqueira, P...|{Campo Grande, 23...|df80b0d5-677c-4be...|      2|     0|       Usado| Apartamento|Residencial|   0|[{245, null, Vend...|\n",
            "|    2|        43|       43|        1|[Academia, Churra...|{Santa Cruz, 2352...|3d6c0218-9b7d-474...|      2|  null|       Usado| Apartamento|Residencial|   2|[{290, null, Vend...|\n",
            "|    3|        43|       43|        1|[Salão de festas,...|{Guaratiba, 23020...|304266cc-62d1-4ce...|      2|  null|       Usado| Apartamento|Residencial|null|[{285, null, Vend...|\n",
            "|    4|        55|       55|        2|[Academia, Churra...|{Recreio dos Band...|111472a2-afa1-4a7...|      2|     1|       Usado| Apartamento|Residencial|   1|[{0, 0, Venda, 30...|\n",
            "|    0|        45|       45|        1|[Playground, Pisc...|{Cosmos, 23066271...|275c1589-6537-4bf...|      2|     0|       Usado| Apartamento|Residencial|   1|[{null, null, Ven...|\n",
            "|    5|        42|       42|        1|[Condomínio fecha...|{Realengo, 217251...|ab8f367f-7509-45c...|      2|     0|       Usado| Apartamento|Residencial|   0|[{280, 0, Venda, ...|\n",
            "|    1|        43|       43|        1|[Churrasqueira, P...|{Cosmos, 23058001...|e0a3d370-66dd-4f5...|      2|  null|       Usado| Apartamento|Residencial|   1|[{280, null, Vend...|\n",
            "|    3|      null|       55|        1|[Academia, Churra...|{Todos os Santos,...|09c8ba2d-dbf1-487...|      2|     1|       Usado| Apartamento|Residencial|   1|[{0, 0, Venda, 26...|\n",
            "+-----+----------+---------+---------+--------------------+--------------------+--------------------+-------+------+------------+------------+-----------+----+--------------------+\n",
            "only showing top 20 rows\n",
            "\n"
          ]
        }
      ]
    },
    {
      "cell_type": "code",
      "source": [
        "#Verifica-se que nem todos os valores de venda estão na primeira célula\n",
        "valores = anuncio.select('id', 'valores.condominio', 'valores.iptu', 'valores.tipo', 'valores.valor')\n",
        "valores.show()\n",
        "valores.groupBy('tipo').count().show()\n",
        "\n",
        "#Como os valores de condominio e iptu são iguais para venda e aluguel não recebem tratamento\n",
        "caracteristicas = ['condominio', 'iptu']\n",
        "valores = valores.select([f.col(c)[0].alias(c) if c in caracteristicas else c for c in valores.columns])\n",
        "valores.show()\n",
        "\n",
        "#Tratamento dos dados de valor de compra\n",
        "from pyspark.sql.functions import when\n",
        "valores = valores.withColumn(\"valor\", when(valores.tipo[0]=='Venda', valores.valor[0]).when(valores.tipo[1]=='Venda', valores.valor[1]))\n",
        "valores = valores.withColumn(\"tipo\", when(valores.tipo[0]=='Venda', valores.tipo[0]).when(valores.tipo[1]=='Venda', valores.tipo[1]))\n",
        "valores.show()\n",
        "valores.groupBy('tipo').count().show()"
      ],
      "metadata": {
        "id": "Lie3f-NzQ1TQ",
        "colab": {
          "base_uri": "https://localhost:8080/"
        },
        "outputId": "a448aeeb-06c5-4a4c-be1c-bc28a78d30db"
      },
      "execution_count": 15,
      "outputs": [
        {
          "output_type": "stream",
          "name": "stdout",
          "text": [
            "+--------------------+----------+------+-------+-------+\n",
            "|                  id|condominio|  iptu|   tipo|  valor|\n",
            "+--------------------+----------+------+-------+-------+\n",
            "|d2e3a3aa-09b5-45a...|     [245]|[null]|[Venda]|[15000]|\n",
            "|085bab2c-87ad-452...|       [0]|   [0]|[Venda]|[15000]|\n",
            "|18d22cbe-1b86-476...|       [0]|   [0]|[Venda]|[20000]|\n",
            "|bed8a354-9317-442...|     [285]|[null]|[Venda]|[20000]|\n",
            "|12a13315-d67f-48f...|     [245]|[null]|[Venda]|[15000]|\n",
            "|a2e6d7a5-0ff0-484...|     [285]|[null]|[Venda]|[20000]|\n",
            "|a6e3173b-c950-4db...|     [250]|[null]|[Venda]|[15000]|\n",
            "|2e6e5dfb-206c-496...|     [245]|[null]|[Venda]|[15000]|\n",
            "|99f8d0f9-95a4-461...|     [245]|[null]|[Venda]|[15000]|\n",
            "|b3f44c1a-2d50-4d5...|     [240]|[null]|[Venda]|[17999]|\n",
            "|dc99d9e1-4c63-41f...|       [0]|   [0]|[Venda]|[15000]|\n",
            "|aa3606d8-8bcd-45e...|     [240]|   [0]|[Venda]|[19999]|\n",
            "|df80b0d5-677c-4be...|     [245]|[null]|[Venda]|[19999]|\n",
            "|3d6c0218-9b7d-474...|     [290]|[null]|[Venda]|[25000]|\n",
            "|304266cc-62d1-4ce...|     [285]|[null]|[Venda]|[29999]|\n",
            "|111472a2-afa1-4a7...|       [0]|   [0]|[Venda]|[30000]|\n",
            "|275c1589-6537-4bf...|    [null]|[null]|[Venda]|[30000]|\n",
            "|ab8f367f-7509-45c...|     [280]|   [0]|[Venda]|[25000]|\n",
            "|e0a3d370-66dd-4f5...|     [280]|[null]|[Venda]|[27999]|\n",
            "|09c8ba2d-dbf1-487...|       [0]|   [0]|[Venda]|[26000]|\n",
            "+--------------------+----------+------+-------+-------+\n",
            "only showing top 20 rows\n",
            "\n",
            "+----------------+-----+\n",
            "|            tipo|count|\n",
            "+----------------+-----+\n",
            "|[Venda, Aluguel]|  407|\n",
            "|[Aluguel, Venda]|  214|\n",
            "|         [Venda]|65941|\n",
            "+----------------+-----+\n",
            "\n",
            "+--------------------+----------+----+-------+-------+\n",
            "|                  id|condominio|iptu|   tipo|  valor|\n",
            "+--------------------+----------+----+-------+-------+\n",
            "|d2e3a3aa-09b5-45a...|       245|null|[Venda]|[15000]|\n",
            "|085bab2c-87ad-452...|         0|   0|[Venda]|[15000]|\n",
            "|18d22cbe-1b86-476...|         0|   0|[Venda]|[20000]|\n",
            "|bed8a354-9317-442...|       285|null|[Venda]|[20000]|\n",
            "|12a13315-d67f-48f...|       245|null|[Venda]|[15000]|\n",
            "|a2e6d7a5-0ff0-484...|       285|null|[Venda]|[20000]|\n",
            "|a6e3173b-c950-4db...|       250|null|[Venda]|[15000]|\n",
            "|2e6e5dfb-206c-496...|       245|null|[Venda]|[15000]|\n",
            "|99f8d0f9-95a4-461...|       245|null|[Venda]|[15000]|\n",
            "|b3f44c1a-2d50-4d5...|       240|null|[Venda]|[17999]|\n",
            "|dc99d9e1-4c63-41f...|         0|   0|[Venda]|[15000]|\n",
            "|aa3606d8-8bcd-45e...|       240|   0|[Venda]|[19999]|\n",
            "|df80b0d5-677c-4be...|       245|null|[Venda]|[19999]|\n",
            "|3d6c0218-9b7d-474...|       290|null|[Venda]|[25000]|\n",
            "|304266cc-62d1-4ce...|       285|null|[Venda]|[29999]|\n",
            "|111472a2-afa1-4a7...|         0|   0|[Venda]|[30000]|\n",
            "|275c1589-6537-4bf...|      null|null|[Venda]|[30000]|\n",
            "|ab8f367f-7509-45c...|       280|   0|[Venda]|[25000]|\n",
            "|e0a3d370-66dd-4f5...|       280|null|[Venda]|[27999]|\n",
            "|09c8ba2d-dbf1-487...|         0|   0|[Venda]|[26000]|\n",
            "+--------------------+----------+----+-------+-------+\n",
            "only showing top 20 rows\n",
            "\n",
            "+--------------------+----------+----+-----+-----+\n",
            "|                  id|condominio|iptu| tipo|valor|\n",
            "+--------------------+----------+----+-----+-----+\n",
            "|d2e3a3aa-09b5-45a...|       245|null|Venda|15000|\n",
            "|085bab2c-87ad-452...|         0|   0|Venda|15000|\n",
            "|18d22cbe-1b86-476...|         0|   0|Venda|20000|\n",
            "|bed8a354-9317-442...|       285|null|Venda|20000|\n",
            "|12a13315-d67f-48f...|       245|null|Venda|15000|\n",
            "|a2e6d7a5-0ff0-484...|       285|null|Venda|20000|\n",
            "|a6e3173b-c950-4db...|       250|null|Venda|15000|\n",
            "|2e6e5dfb-206c-496...|       245|null|Venda|15000|\n",
            "|99f8d0f9-95a4-461...|       245|null|Venda|15000|\n",
            "|b3f44c1a-2d50-4d5...|       240|null|Venda|17999|\n",
            "|dc99d9e1-4c63-41f...|         0|   0|Venda|15000|\n",
            "|aa3606d8-8bcd-45e...|       240|   0|Venda|19999|\n",
            "|df80b0d5-677c-4be...|       245|null|Venda|19999|\n",
            "|3d6c0218-9b7d-474...|       290|null|Venda|25000|\n",
            "|304266cc-62d1-4ce...|       285|null|Venda|29999|\n",
            "|111472a2-afa1-4a7...|         0|   0|Venda|30000|\n",
            "|275c1589-6537-4bf...|      null|null|Venda|30000|\n",
            "|ab8f367f-7509-45c...|       280|   0|Venda|25000|\n",
            "|e0a3d370-66dd-4f5...|       280|null|Venda|27999|\n",
            "|09c8ba2d-dbf1-487...|         0|   0|Venda|26000|\n",
            "+--------------------+----------+----+-----+-----+\n",
            "only showing top 20 rows\n",
            "\n",
            "+-----+-----+\n",
            "| tipo|count|\n",
            "+-----+-----+\n",
            "|Venda|66562|\n",
            "+-----+-----+\n",
            "\n"
          ]
        }
      ]
    },
    {
      "cell_type": "code",
      "source": [
        "anuncio = anuncio.join(valores, 'id', how='left').drop('valores')\n",
        "anuncio.show()"
      ],
      "metadata": {
        "id": "Ih3l6CIwUhSF",
        "colab": {
          "base_uri": "https://localhost:8080/"
        },
        "outputId": "fbb14b08-d5ab-443b-c120-8744c0b4cd9f"
      },
      "execution_count": 16,
      "outputs": [
        {
          "output_type": "stream",
          "name": "stdout",
          "text": [
            "+--------------------+-----+----------+---------+---------+--------------------+--------------------+-------+------+------------+------------+-----------+----+----------+----+-----+-----+\n",
            "|                  id|andar|area_total|area_util|banheiros|     caracteristicas|            endereco|quartos|suites|tipo_anuncio|tipo_unidade|   tipo_uso|vaga|condominio|iptu| tipo|valor|\n",
            "+--------------------+-----+----------+---------+---------+--------------------+--------------------+-------+------+------------+------------+-----------+----+----------+----+-----+-----+\n",
            "|09c8ba2d-dbf1-487...|    3|      null|       55|        1|[Academia, Churra...|{Todos os Santos,...|      2|     1|       Usado| Apartamento|Residencial|   1|         0|   0|Venda|26000|\n",
            "|111472a2-afa1-4a7...|    4|        55|       55|        2|[Academia, Churra...|{Recreio dos Band...|      2|     1|       Usado| Apartamento|Residencial|   1|         0|   0|Venda|30000|\n",
            "|304266cc-62d1-4ce...|    3|        43|       43|        1|[Salão de festas,...|{Guaratiba, 23020...|      2|  null|       Usado| Apartamento|Residencial|null|       285|null|Venda|29999|\n",
            "|a2e6d7a5-0ff0-484...|    3|        43|       43|        1|[Churrasqueira, P...|{Cosmos, 23066271...|      2|     0|       Usado| Apartamento|Residencial|   0|       285|null|Venda|20000|\n",
            "|a6e3173b-c950-4db...|    3|        43|       43|        1|[Churrasqueira, P...|{Paciência, 23585...|      2|  null|       Usado| Apartamento|Residencial|   1|       250|null|Venda|15000|\n",
            "|ab8f367f-7509-45c...|    5|        42|       42|        1|[Condomínio fecha...|{Realengo, 217251...|      2|     0|       Usado| Apartamento|Residencial|   0|       280|   0|Venda|25000|\n",
            "|d2e3a3aa-09b5-45a...|    3|        43|       43|        1|[Academia, Churra...|{Paciência, 23585...|      2|  null|       Usado| Apartamento|Residencial|   1|       245|null|Venda|15000|\n",
            "|dc99d9e1-4c63-41f...|    0|        60|       60|        1|[Condomínio fechado]|{Pedra de Guarati...|      2|  null|       Usado| Apartamento|Residencial|   1|         0|   0|Venda|15000|\n",
            "|085bab2c-87ad-452...|    2|        42|       42|        1|[Churrasqueira, P...|{Paciência, 23585...|      2|  null|       Usado| Apartamento|Residencial|   1|         0|   0|Venda|15000|\n",
            "|12a13315-d67f-48f...|    2|        43|       43|        1|[Academia, Churra...|{Guaratiba, 23036...|      2|  null|       Usado| Apartamento|Residencial|   1|       245|null|Venda|15000|\n",
            "|18d22cbe-1b86-476...|    1|        41|       41|        1|[Portaria 24h, Co...|{Guaratiba, 23036...|      2|  null|       Usado| Apartamento|Residencial|   1|         0|   0|Venda|20000|\n",
            "|275c1589-6537-4bf...|    0|        45|       45|        1|[Playground, Pisc...|{Cosmos, 23066271...|      2|     0|       Usado| Apartamento|Residencial|   1|      null|null|Venda|30000|\n",
            "|2e6e5dfb-206c-496...|    3|        43|       43|        1|[Churrasqueira, P...|{Guaratiba, 23036...|      2|     0|       Usado| Apartamento|Residencial|   1|       245|null|Venda|15000|\n",
            "|33da5489-72c9-4d1...|    0|        45|       45|        1|[Academia, Churra...|{Paciência, 23585...|      2|  null|       Usado| Apartamento|Residencial|   1|       200|   0|Venda|23000|\n",
            "|3d6c0218-9b7d-474...|    2|        43|       43|        1|[Academia, Churra...|{Santa Cruz, 2352...|      2|  null|       Usado| Apartamento|Residencial|   2|       290|null|Venda|25000|\n",
            "|99f8d0f9-95a4-461...|    3|        43|       43|        1|[Churrasqueira, P...|{Paciência, 23585...|      2|     0|       Usado| Apartamento|Residencial|   1|       245|null|Venda|15000|\n",
            "|aa3606d8-8bcd-45e...|    1|        43|       43|        1|[Churrasqueira, P...|{Cosmos, 23056630...|      2|  null|       Usado| Apartamento|Residencial|   1|       240|   0|Venda|19999|\n",
            "|b3f44c1a-2d50-4d5...|    4|        43|       43|        1|[Churrasqueira, P...|{Guaratiba, 23036...|      2|  null|       Usado| Apartamento|Residencial|   1|       240|null|Venda|17999|\n",
            "|bed8a354-9317-442...|    3|        43|       43|        1|[Churrasqueira, P...|{Cosmos, 23066271...|      2|  null|       Usado| Apartamento|Residencial|   0|       285|null|Venda|20000|\n",
            "|df80b0d5-677c-4be...|    0|        43|       43|        1|[Churrasqueira, P...|{Campo Grande, 23...|      2|     0|       Usado| Apartamento|Residencial|   0|       245|null|Venda|19999|\n",
            "+--------------------+-----+----------+---------+---------+--------------------+--------------------+-------+------+------------+------------+-----------+----+----------+----+-----+-----+\n",
            "only showing top 20 rows\n",
            "\n"
          ]
        }
      ]
    },
    {
      "cell_type": "code",
      "source": [
        "endereco = anuncio.select('id', 'endereco.bairro', 'endereco.zona')\n",
        "endereco.show()"
      ],
      "metadata": {
        "id": "tULoFB1DwFsM",
        "colab": {
          "base_uri": "https://localhost:8080/"
        },
        "outputId": "f9156b9f-d930-483e-8550-c5f2fae0c9e7"
      },
      "execution_count": 17,
      "outputs": [
        {
          "output_type": "stream",
          "name": "stdout",
          "text": [
            "+--------------------+--------------------+----------+\n",
            "|                  id|              bairro|      zona|\n",
            "+--------------------+--------------------+----------+\n",
            "|d2e3a3aa-09b5-45a...|           Paciência|Zona Oeste|\n",
            "|085bab2c-87ad-452...|           Paciência|Zona Oeste|\n",
            "|18d22cbe-1b86-476...|           Guaratiba|Zona Oeste|\n",
            "|bed8a354-9317-442...|              Cosmos|Zona Oeste|\n",
            "|12a13315-d67f-48f...|           Guaratiba|Zona Oeste|\n",
            "|a2e6d7a5-0ff0-484...|              Cosmos|Zona Oeste|\n",
            "|a6e3173b-c950-4db...|           Paciência|Zona Oeste|\n",
            "|2e6e5dfb-206c-496...|           Guaratiba|Zona Oeste|\n",
            "|99f8d0f9-95a4-461...|           Paciência|Zona Oeste|\n",
            "|b3f44c1a-2d50-4d5...|           Guaratiba|Zona Oeste|\n",
            "|dc99d9e1-4c63-41f...|  Pedra de Guaratiba|Zona Oeste|\n",
            "|aa3606d8-8bcd-45e...|              Cosmos|Zona Oeste|\n",
            "|df80b0d5-677c-4be...|        Campo Grande|Zona Oeste|\n",
            "|3d6c0218-9b7d-474...|          Santa Cruz|Zona Oeste|\n",
            "|304266cc-62d1-4ce...|           Guaratiba|Zona Oeste|\n",
            "|111472a2-afa1-4a7...|Recreio dos Bande...|Zona Oeste|\n",
            "|275c1589-6537-4bf...|              Cosmos|Zona Oeste|\n",
            "|ab8f367f-7509-45c...|            Realengo|Zona Oeste|\n",
            "|e0a3d370-66dd-4f5...|              Cosmos|Zona Oeste|\n",
            "|09c8ba2d-dbf1-487...|     Todos os Santos|Zona Norte|\n",
            "+--------------------+--------------------+----------+\n",
            "only showing top 20 rows\n",
            "\n"
          ]
        }
      ]
    },
    {
      "cell_type": "code",
      "source": [
        "anuncio = anuncio.join(endereco, 'id', how='left').drop('endereco')\n",
        "anuncio.show()\n",
        "anuncio.count()"
      ],
      "metadata": {
        "id": "RNoo-F5HwdAe",
        "colab": {
          "base_uri": "https://localhost:8080/"
        },
        "outputId": "55a74070-196d-4080-c27b-16a96f3b33a1"
      },
      "execution_count": 18,
      "outputs": [
        {
          "output_type": "stream",
          "name": "stdout",
          "text": [
            "+--------------------+-----+----------+---------+---------+--------------------+-------+------+------------+------------+-----------+----+----------+----+-----+-----+--------------------+----------+\n",
            "|                  id|andar|area_total|area_util|banheiros|     caracteristicas|quartos|suites|tipo_anuncio|tipo_unidade|   tipo_uso|vaga|condominio|iptu| tipo|valor|              bairro|      zona|\n",
            "+--------------------+-----+----------+---------+---------+--------------------+-------+------+------------+------------+-----------+----+----------+----+-----+-----+--------------------+----------+\n",
            "|09c8ba2d-dbf1-487...|    3|      null|       55|        1|[Academia, Churra...|      2|     1|       Usado| Apartamento|Residencial|   1|         0|   0|Venda|26000|     Todos os Santos|Zona Norte|\n",
            "|111472a2-afa1-4a7...|    4|        55|       55|        2|[Academia, Churra...|      2|     1|       Usado| Apartamento|Residencial|   1|         0|   0|Venda|30000|Recreio dos Bande...|Zona Oeste|\n",
            "|304266cc-62d1-4ce...|    3|        43|       43|        1|[Salão de festas,...|      2|  null|       Usado| Apartamento|Residencial|null|       285|null|Venda|29999|           Guaratiba|Zona Oeste|\n",
            "|a2e6d7a5-0ff0-484...|    3|        43|       43|        1|[Churrasqueira, P...|      2|     0|       Usado| Apartamento|Residencial|   0|       285|null|Venda|20000|              Cosmos|Zona Oeste|\n",
            "|a6e3173b-c950-4db...|    3|        43|       43|        1|[Churrasqueira, P...|      2|  null|       Usado| Apartamento|Residencial|   1|       250|null|Venda|15000|           Paciência|Zona Oeste|\n",
            "|ab8f367f-7509-45c...|    5|        42|       42|        1|[Condomínio fecha...|      2|     0|       Usado| Apartamento|Residencial|   0|       280|   0|Venda|25000|            Realengo|Zona Oeste|\n",
            "|d2e3a3aa-09b5-45a...|    3|        43|       43|        1|[Academia, Churra...|      2|  null|       Usado| Apartamento|Residencial|   1|       245|null|Venda|15000|           Paciência|Zona Oeste|\n",
            "|dc99d9e1-4c63-41f...|    0|        60|       60|        1|[Condomínio fechado]|      2|  null|       Usado| Apartamento|Residencial|   1|         0|   0|Venda|15000|  Pedra de Guaratiba|Zona Oeste|\n",
            "|085bab2c-87ad-452...|    2|        42|       42|        1|[Churrasqueira, P...|      2|  null|       Usado| Apartamento|Residencial|   1|         0|   0|Venda|15000|           Paciência|Zona Oeste|\n",
            "|12a13315-d67f-48f...|    2|        43|       43|        1|[Academia, Churra...|      2|  null|       Usado| Apartamento|Residencial|   1|       245|null|Venda|15000|           Guaratiba|Zona Oeste|\n",
            "|18d22cbe-1b86-476...|    1|        41|       41|        1|[Portaria 24h, Co...|      2|  null|       Usado| Apartamento|Residencial|   1|         0|   0|Venda|20000|           Guaratiba|Zona Oeste|\n",
            "|275c1589-6537-4bf...|    0|        45|       45|        1|[Playground, Pisc...|      2|     0|       Usado| Apartamento|Residencial|   1|      null|null|Venda|30000|              Cosmos|Zona Oeste|\n",
            "|2e6e5dfb-206c-496...|    3|        43|       43|        1|[Churrasqueira, P...|      2|     0|       Usado| Apartamento|Residencial|   1|       245|null|Venda|15000|           Guaratiba|Zona Oeste|\n",
            "|33da5489-72c9-4d1...|    0|        45|       45|        1|[Academia, Churra...|      2|  null|       Usado| Apartamento|Residencial|   1|       200|   0|Venda|23000|           Paciência|Zona Oeste|\n",
            "|3d6c0218-9b7d-474...|    2|        43|       43|        1|[Academia, Churra...|      2|  null|       Usado| Apartamento|Residencial|   2|       290|null|Venda|25000|          Santa Cruz|Zona Oeste|\n",
            "|99f8d0f9-95a4-461...|    3|        43|       43|        1|[Churrasqueira, P...|      2|     0|       Usado| Apartamento|Residencial|   1|       245|null|Venda|15000|           Paciência|Zona Oeste|\n",
            "|aa3606d8-8bcd-45e...|    1|        43|       43|        1|[Churrasqueira, P...|      2|  null|       Usado| Apartamento|Residencial|   1|       240|   0|Venda|19999|              Cosmos|Zona Oeste|\n",
            "|b3f44c1a-2d50-4d5...|    4|        43|       43|        1|[Churrasqueira, P...|      2|  null|       Usado| Apartamento|Residencial|   1|       240|null|Venda|17999|           Guaratiba|Zona Oeste|\n",
            "|bed8a354-9317-442...|    3|        43|       43|        1|[Churrasqueira, P...|      2|  null|       Usado| Apartamento|Residencial|   0|       285|null|Venda|20000|              Cosmos|Zona Oeste|\n",
            "|df80b0d5-677c-4be...|    0|        43|       43|        1|[Churrasqueira, P...|      2|     0|       Usado| Apartamento|Residencial|   0|       245|null|Venda|19999|        Campo Grande|Zona Oeste|\n",
            "+--------------------+-----+----------+---------+---------+--------------------+-------+------+------------+------------+-----------+----+----------+----+-----+-----+--------------------+----------+\n",
            "only showing top 20 rows\n",
            "\n"
          ]
        },
        {
          "output_type": "execute_result",
          "data": {
            "text/plain": [
              "66562"
            ]
          },
          "metadata": {},
          "execution_count": 18
        }
      ]
    },
    {
      "cell_type": "code",
      "source": [
        "anuncio = anuncio.drop('caracteristicas')"
      ],
      "metadata": {
        "id": "lmiGyFui4-nv"
      },
      "execution_count": 19,
      "outputs": []
    },
    {
      "cell_type": "code",
      "source": [
        "anuncio.write.parquet(\n",
        "    path='/content/dados/dataset_parquet',\n",
        "    mode='overwrite',\n",
        ")"
      ],
      "metadata": {
        "id": "XmcN424W4ixk"
      },
      "execution_count": 20,
      "outputs": []
    },
    {
      "cell_type": "code",
      "source": [
        "anuncio.write.csv(\n",
        "    path='/content/dados/dataset.csv',\n",
        "    mode='overwrite',\n",
        "    sep=';',\n",
        "    header=True\n",
        ")"
      ],
      "metadata": {
        "id": "vxkYCeQW5E6u"
      },
      "execution_count": 21,
      "outputs": []
    },
    {
      "cell_type": "code",
      "source": [
        "%%time\n",
        "anuncio = spark.read.parquet(\n",
        "    '/content/dados/dataset_parquet',\n",
        "    sep=';',\n",
        "    inferSchema=True,\n",
        "    header=True\n",
        ")"
      ],
      "metadata": {
        "colab": {
          "base_uri": "https://localhost:8080/"
        },
        "id": "PlXrBsU55iM0",
        "outputId": "9d12d0b1-1511-45a3-de2b-c84733b78684"
      },
      "execution_count": 22,
      "outputs": [
        {
          "output_type": "stream",
          "name": "stdout",
          "text": [
            "CPU times: user 4.15 ms, sys: 10 µs, total: 4.16 ms\n",
            "Wall time: 261 ms\n"
          ]
        }
      ]
    },
    {
      "cell_type": "code",
      "source": [
        "%%time\n",
        "anuncio = spark.read.csv(\n",
        "    '/content/dados/dataset.csv',\n",
        "    sep=';',\n",
        "    inferSchema=True,\n",
        "    header=True\n",
        ")"
      ],
      "metadata": {
        "colab": {
          "base_uri": "https://localhost:8080/"
        },
        "id": "V1cqvH4Q5k-Y",
        "outputId": "e581f8a4-7c91-421f-ebc2-b8fd3f6fc3eb"
      },
      "execution_count": 23,
      "outputs": [
        {
          "output_type": "stream",
          "name": "stdout",
          "text": [
            "CPU times: user 18.5 ms, sys: 1.23 ms, total: 19.7 ms\n",
            "Wall time: 1.72 s\n"
          ]
        }
      ]
    }
  ]
}